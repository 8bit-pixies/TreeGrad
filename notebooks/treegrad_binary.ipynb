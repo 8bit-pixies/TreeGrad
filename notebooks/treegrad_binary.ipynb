{
  "nbformat": 4,
  "nbformat_minor": 0,
  "metadata": {
    "colab": {
      "name": "treegrad_binary.ipynb",
      "version": "0.3.2",
      "provenance": [],
      "collapsed_sections": []
    },
    "kernelspec": {
      "name": "python3",
      "display_name": "Python 3"
    }
  },
  "cells": [
    {
      "metadata": {
        "id": "9y71WrINQxf6",
        "colab_type": "text"
      },
      "cell_type": "markdown",
      "source": [
        "This notebook is to convert *binary* boosted trees defined by LightGBM to TreeGrad so that it can be trained using GPUs"
      ]
    },
    {
      "metadata": {
        "id": "Csz6ciIdQuPk",
        "colab_type": "code",
        "colab": {}
      },
      "cell_type": "code",
      "source": [
        "from __future__ import absolute_import, division, print_function, unicode_literals\n",
        "\n",
        "!pip install -q tensorflow==2.0.0-alpha0 treegrad\n",
        "import tensorflow as tf\n",
        "import numpy as np\n",
        "from sklearn.metrics import roc_auc_score, accuracy_score"
      ],
      "execution_count": 0,
      "outputs": []
    },
    {
      "metadata": {
        "id": "x-w7p-6mQ6NL",
        "colab_type": "code",
        "outputId": "8e09cab1-6b9a-49c1-ac21-3fae4fd23a38",
        "colab": {
          "base_uri": "https://localhost:8080/",
          "height": 72
        }
      },
      "cell_type": "code",
      "source": [
        "from sklearn.datasets import make_classification\n",
        "import lightgbm as lgb\n",
        "X, y = make_classification(100, n_classes=2, n_informative=3, n_redundant=0, n_clusters_per_class=2, n_features=10)\n",
        "lgb_model = lgb.LGBMClassifier(n_estimators=3)\n",
        "lgb_model.fit(X, y)\n",
        "nclass = lgb_model.n_classes_\n",
        "print(lgb_model.predict(X))"
      ],
      "execution_count": 19,
      "outputs": [
        {
          "output_type": "stream",
          "text": [
            "[0 1 1 0 0 0 1 0 0 1 1 1 1 1 0 1 0 0 0 0 1 0 1 0 1 0 1 1 1 1 1 0 1 1 1 1 0\n",
            " 1 0 1 0 1 1 1 0 1 0 1 1 1 0 1 1 1 1 1 0 1 0 0 1 1 0 0 0 0 0 1 1 0 0 1 1 1\n",
            " 0 0 0 0 1 1 0 1 0 0 1 1 1 0 0 0 1 1 1 0 0 1 1 0 1 0]\n"
          ],
          "name": "stdout"
        }
      ]
    },
    {
      "metadata": {
        "id": "7w2arQdURN1h",
        "colab_type": "code",
        "colab": {}
      },
      "cell_type": "code",
      "source": [
        "from treegrad.tree_utils import multi_tree_to_param\n",
        "\n",
        "model_dump = lgb_model.booster_.dump_model()\n",
        "trees_ = [m[\"tree_structure\"] for m in model_dump[\"tree_info\"]]\n",
        "trees_params = multi_tree_to_param(X, y, trees_)"
      ],
      "execution_count": 0,
      "outputs": []
    },
    {
      "metadata": {
        "id": "4YnIAKBeRtC4",
        "colab_type": "code",
        "colab": {}
      },
      "cell_type": "code",
      "source": [
        "weights = trees_params[0]\n",
        "sparse_info = trees_params[1]\n",
        "routes_list = trees_params[2]"
      ],
      "execution_count": 0,
      "outputs": []
    },
    {
      "metadata": {
        "id": "MnPlIxDCVpYf",
        "colab_type": "text"
      },
      "cell_type": "markdown",
      "source": [
        "------\n",
        "\n",
        "Now we recreate the node layer definitions"
      ]
    },
    {
      "metadata": {
        "id": "LJwRpBmUVo8a",
        "colab_type": "code",
        "colab": {}
      },
      "cell_type": "code",
      "source": [
        "# to build tree model, it is just a three layer neural network - lets see how we go...\n",
        "from tensorflow.keras.constraints import max_norm, MinMaxNorm\n",
        "from tensorflow.keras import constraints\n",
        "\n",
        "'''\n",
        "class NodeLayer(tf.keras.layers.Layer):\n",
        "    def __init__(self, num_nodes):\n",
        "        super(NodeLayer, self).__init__()\n",
        "        self.num_nodes = num_nodes\n",
        "    \n",
        "    def build(self, input_shape):\n",
        "        # we may want a sparse one later...ignore it for now\n",
        "        self.sparse = self.add_variable(\"sparse\", \n",
        "                                    shape=[int(input_shape[-1]), \n",
        "                                           self.num_nodes],\n",
        "                                    trainable=False)\n",
        "        self.kernel = self.add_variable(\"kernel\", regularizer='l1', constraint=max_norm(2), shape=[self.num_nodes,])\n",
        "        self.bias = self.add_variable(\"bias\", regularizer='l1', constraint=max_norm(2), shape=[self.num_nodes,])\n",
        "    \n",
        "    def call(self, input):\n",
        "        return tf.matmul(input, tf.concat([self.kernel * self.sparse, -self.kernel * self.sparse], 1)) + tf.concat([self.bias, -self.bias], 0)\n",
        "'''\n",
        "\n",
        "\n",
        "class NodeLayer(tf.keras.layers.Layer):\n",
        "    def __init__(self, num_nodes):\n",
        "        super(NodeLayer, self).__init__()\n",
        "        self.num_nodes = num_nodes\n",
        "    \n",
        "    def build(self, input_shape):\n",
        "        # we may want a sparse one later...ignore it for now\n",
        "        self.kernel = self.add_variable(\"sparse\", \n",
        "                                    shape=[int(input_shape[-1]), \n",
        "                                           self.num_nodes],\n",
        "                                    regularizer='l1',\n",
        "                                    trainable=True)\n",
        "        self.bias = self.add_variable(\"bias\", constraint=MinMaxNorm(1., 2.), shape=[self.num_nodes,])\n",
        "    \n",
        "    def call(self, input):\n",
        "        return tf.matmul(input, tf.concat([self.kernel, -self.kernel], 1)) + tf.concat([self.bias, -self.bias], 0)\n",
        "\n",
        "\n",
        "    \n",
        "def gumbel_softmax(x, tau=0.01):\n",
        "    x_temp = tf.clip_by_value(x/tau, -32, 32)\n",
        "    return 1/(1+tf.keras.backend.exp(-x))\n",
        "\n",
        "def activation1(x):\n",
        "    return tf.keras.backend.log(tf.clip_by_value(gumbel_softmax(x),tf.keras.backend.epsilon(), 1.))\n",
        "\n",
        "def activation2(x):\n",
        "    return tf.keras.backend.exp(tf.clip_by_value(x, -32, 0))\n",
        "\n"
      ],
      "execution_count": 0,
      "outputs": []
    },
    {
      "metadata": {
        "id": "Hxdcv076SPVf",
        "colab_type": "code",
        "colab": {}
      },
      "cell_type": "code",
      "source": [
        "\n",
        "\n",
        "# now we have to construct the tree...\n",
        "inputs = tf.keras.Input(shape=(10,))\n",
        "decision_tree_layers = []\n",
        "for tree_idx in range(len(sparse_info)):\n",
        "    num_nodes = sparse_info[tree_idx].shape[1]\n",
        "    decision_tree_layers.append(\n",
        "        tf.keras.Sequential([\n",
        "            NodeLayer(num_nodes),\n",
        "            tf.keras.layers.Lambda(activation1),\n",
        "            tf.keras.layers.Dense(num_nodes+1, trainable=False, use_bias=False),\n",
        "            #tf.keras.layers.Lambda(lambda x: tf.matmul(x, routes_list[tree_idx].T.astype(np.float32))),\n",
        "            tf.keras.layers.Lambda(activation2),\n",
        "            tf.keras.layers.Dense(1, use_bias=False)\n",
        "        ], name='decision_tree_{}'.format(tree_idx))(inputs)\n",
        "    )\n",
        "log_preds = tf.keras.layers.Add()(decision_tree_layers)\n",
        "log_preds = tf.keras.layers.Lambda(lambda x: tf.clip_by_value(x, -32, 32))(log_preds)\n",
        "preds = tf.keras.layers.Activation('sigmoid')(log_preds)\n",
        "model = tf.keras.Model(inputs=inputs, outputs=preds)\n"
      ],
      "execution_count": 0,
      "outputs": []
    },
    {
      "metadata": {
        "id": "Xmo0UsYwXikR",
        "colab_type": "code",
        "outputId": "f23f4c18-8b30-4882-aadb-f38973841fa1",
        "colab": {
          "base_uri": "https://localhost:8080/",
          "height": 458
        }
      },
      "cell_type": "code",
      "source": [
        "model.summary()"
      ],
      "execution_count": 24,
      "outputs": [
        {
          "output_type": "stream",
          "text": [
            "Model: \"model_1\"\n",
            "__________________________________________________________________________________________________\n",
            "Layer (type)                    Output Shape         Param #     Connected to                     \n",
            "==================================================================================================\n",
            "input_2 (InputLayer)            [(None, 10)]         0                                            \n",
            "__________________________________________________________________________________________________\n",
            "decision_tree_0 (Sequential)    (None, 1)            61          input_2[0][0]                    \n",
            "__________________________________________________________________________________________________\n",
            "decision_tree_1 (Sequential)    (None, 1)            61          input_2[0][0]                    \n",
            "__________________________________________________________________________________________________\n",
            "decision_tree_2 (Sequential)    (None, 1)            61          input_2[0][0]                    \n",
            "__________________________________________________________________________________________________\n",
            "add_1 (Add)                     (None, 1)            0           decision_tree_0[0][0]            \n",
            "                                                                 decision_tree_1[0][0]            \n",
            "                                                                 decision_tree_2[0][0]            \n",
            "__________________________________________________________________________________________________\n",
            "lambda_13 (Lambda)              (None, 1)            0           add_1[0][0]                      \n",
            "__________________________________________________________________________________________________\n",
            "activation_1 (Activation)       (None, 1)            0           lambda_13[0][0]                  \n",
            "==================================================================================================\n",
            "Total params: 183\n",
            "Trainable params: 111\n",
            "Non-trainable params: 72\n",
            "__________________________________________________________________________________________________\n"
          ],
          "name": "stdout"
        }
      ]
    },
    {
      "metadata": {
        "id": "_DB-0CGdahfS",
        "colab_type": "code",
        "outputId": "efaf8006-a2a2-449b-977e-590457245575",
        "colab": {
          "base_uri": "https://localhost:8080/",
          "height": 533
        }
      },
      "cell_type": "code",
      "source": [
        "tf.keras.utils.plot_model(model, 'boosted_tree.png', show_shapes=True)\n"
      ],
      "execution_count": 25,
      "outputs": [
        {
          "output_type": "execute_result",
          "data": {
            "image/png": "[encoded data removed]",
            "text/plain": [
              "<IPython.core.display.Image object>"
            ]
          },
          "metadata": {
            "tags": []
          },
          "execution_count": 25
        }
      ]
    },
    {
      "metadata": {
        "id": "wsAR2JFxX4gl",
        "colab_type": "code",
        "colab": {}
      },
      "cell_type": "code",
      "source": [
        "tree_pred = []\n",
        "num_unpack = 3\n",
        "for idx in range(0, len(weights), num_unpack):\n",
        "    param = weights[idx:idx+num_unpack]\n",
        "    other_idx = idx//num_unpack\n",
        "    coef, inter, leaf = param\n",
        "    sparse = sparse_info[other_idx]\n",
        "    route = routes_list[other_idx]\n",
        "    #model.layers[other_idx+1].layers[0].set_weights([coef, inter, sparse])\n",
        "    model.layers[other_idx+1].layers[0].set_weights([coef*sparse, inter])\n",
        "    model.layers[other_idx+1].layers[2].set_weights([route.T])\n",
        "    # we didn't transfer leaves...\n",
        "    model.layers[other_idx+1].layers[4].set_weights([leaf[:, np.newaxis]])\n"
      ],
      "execution_count": 0,
      "outputs": []
    },
    {
      "metadata": {
        "colab_type": "code",
        "outputId": "90906e7d-b562-4728-9649-795bbc8d3c94",
        "id": "B3pd4QUbgf7X",
        "colab": {
          "base_uri": "https://localhost:8080/",
          "height": 35
        }
      },
      "cell_type": "code",
      "source": [
        "# let's train and see what happens\n",
        "model.compile(loss='binary_crossentropy',\n",
        "              optimizer=tf.keras.optimizers.Adam(),\n",
        "              metrics=['accuracy'])\n",
        "model.fit(X, y, epochs=1000, verbose=0)"
      ],
      "execution_count": 31,
      "outputs": [
        {
          "output_type": "execute_result",
          "data": {
            "text/plain": [
              "<tensorflow.python.keras.callbacks.History at 0x7fd54f86bb70>"
            ]
          },
          "metadata": {
            "tags": []
          },
          "execution_count": 31
        }
      ]
    },
    {
      "metadata": {
        "colab_type": "code",
        "id": "awW-laqXgehz",
        "colab": {
          "base_uri": "https://localhost:8080/",
          "height": 35
        },
        "outputId": "e92bad9d-ff97-4e6b-c50c-f34867a8a6c3"
      },
      "cell_type": "code",
      "source": [
        "accuracy_score(y, np.round(model.predict(X)))"
      ],
      "execution_count": 37,
      "outputs": [
        {
          "output_type": "execute_result",
          "data": {
            "text/plain": [
              "0.78"
            ]
          },
          "metadata": {
            "tags": []
          },
          "execution_count": 37
        }
      ]
    },
    {
      "metadata": {
        "id": "8-4E88miZCij",
        "colab_type": "code",
        "colab": {
          "base_uri": "https://localhost:8080/",
          "height": 35
        },
        "outputId": "b649f10e-9bb4-4e11-de54-5e02c9224e42"
      },
      "cell_type": "code",
      "source": [
        "accuracy_score(y, lgb_model.predict(X))\n"
      ],
      "execution_count": 38,
      "outputs": [
        {
          "output_type": "execute_result",
          "data": {
            "text/plain": [
              "0.81"
            ]
          },
          "metadata": {
            "tags": []
          },
          "execution_count": 38
        }
      ]
    }
  ]
}