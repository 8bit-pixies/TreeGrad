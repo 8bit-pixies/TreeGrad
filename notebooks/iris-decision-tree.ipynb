{
 "cells": [
  {
   "cell_type": "code",
   "execution_count": 1,
   "metadata": {},
   "outputs": [
    {
     "data": {
      "text/plain": [
       "DecisionTreeClassifier(class_weight=None, criterion='gini', max_depth=None,\n",
       "            max_features=None, max_leaf_nodes=4, min_impurity_decrease=0.0,\n",
       "            min_impurity_split=None, min_samples_leaf=1,\n",
       "            min_samples_split=2, min_weight_fraction_leaf=0.0,\n",
       "            presort=False, random_state=None, splitter='best')"
      ]
     },
     "execution_count": 1,
     "metadata": {},
     "output_type": "execute_result"
    }
   ],
   "source": [
    "from sklearn.datasets import load_iris\n",
    "from sklearn import tree\n",
    "from sklearn.tree import _tree\n",
    "import lightgbm as lgb\n",
    "from sklearn.metrics import accuracy_score\n",
    "\n",
    "def tree_to_code(tree, feature_names):\n",
    "    tree_ = tree.tree_\n",
    "    feature_name = [\n",
    "        feature_names[i] if i != _tree.TREE_UNDEFINED else \"undefined!\"\n",
    "        for i in tree_.feature\n",
    "    ]\n",
    "    print(\"def tree({}):\".format(\", \".join(feature_names)))\n",
    "\n",
    "    def recurse(node, depth):\n",
    "        indent = \"  \" * depth\n",
    "        if tree_.feature[node] != _tree.TREE_UNDEFINED:\n",
    "            name = feature_name[node]\n",
    "            threshold = tree_.threshold[node]\n",
    "            print(\"{}if {} <= {}:\".format(indent, name, threshold))\n",
    "            recurse(tree_.children_left[node], depth + 1)\n",
    "            print(\"{}else:  # if {} > {}\".format(indent, name, threshold))\n",
    "            recurse(tree_.children_right[node], depth + 1)\n",
    "        else:\n",
    "            print(\"{}return {}\".format(indent, tree_.value[node]))\n",
    "\n",
    "    recurse(0, 1)\n",
    "    \n",
    "iris = load_iris()\n",
    "X = iris.data\n",
    "y = iris.target\n",
    "\n",
    "clf = tree.DecisionTreeClassifier(max_leaf_nodes=4)\n",
    "clf.fit(X, y)"
   ]
  },
  {
   "cell_type": "code",
   "execution_count": 2,
   "metadata": {},
   "outputs": [],
   "source": [
    "# dot -Tpng tree.dot -o tree.png \n",
    "# tree.export_graphviz(clf, out_file='tree_draft.dot')  "
   ]
  },
  {
   "cell_type": "code",
   "execution_count": 3,
   "metadata": {},
   "outputs": [],
   "source": [
    "# !dot -Tpng tree.dot -o tree.png "
   ]
  },
  {
   "cell_type": "code",
   "execution_count": 4,
   "metadata": {},
   "outputs": [
    {
     "data": {
      "text/plain": [
       "0.9733333333333334"
      ]
     },
     "execution_count": 4,
     "metadata": {},
     "output_type": "execute_result"
    }
   ],
   "source": [
    "clf.score(X, y)"
   ]
  },
  {
   "cell_type": "code",
   "execution_count": 5,
   "metadata": {},
   "outputs": [
    {
     "data": {
      "text/plain": [
       "['sepal length (cm)',\n",
       " 'sepal width (cm)',\n",
       " 'petal length (cm)',\n",
       " 'petal width (cm)']"
      ]
     },
     "execution_count": 5,
     "metadata": {},
     "output_type": "execute_result"
    }
   ],
   "source": [
    "iris.feature_names"
   ]
  },
  {
   "cell_type": "code",
   "execution_count": 6,
   "metadata": {},
   "outputs": [
    {
     "name": "stdout",
     "output_type": "stream",
     "text": [
      "def tree(sepal length (cm), sepal width (cm), petal length (cm), petal width (cm)):\n",
      "  if petal width (cm) <= 0.800000011920929:\n",
      "    return [[50.  0.  0.]]\n",
      "  else:  # if petal width (cm) > 0.800000011920929\n",
      "    if petal width (cm) <= 1.75:\n",
      "      if petal length (cm) <= 4.949999809265137:\n",
      "        return [[ 0. 47.  1.]]\n",
      "      else:  # if petal length (cm) > 4.949999809265137\n",
      "        return [[0. 2. 4.]]\n",
      "    else:  # if petal width (cm) > 1.75\n",
      "      return [[ 0.  1. 45.]]\n"
     ]
    }
   ],
   "source": [
    "tree_to_code(clf, iris.feature_names)\n",
    "\n",
    "# note for boundaries...\n",
    "# 1/0.8 = 1.25\n",
    "# 1/1.75 = 0.57\n",
    "# 1/4.95 = 0.20"
   ]
  },
  {
   "cell_type": "code",
   "execution_count": 7,
   "metadata": {},
   "outputs": [],
   "source": [
    "# assume inter is always 1 for convenience\n",
    "param = [\n",
    "    np.array([-1.25, -0.57, -0.20]),\n",
    "    np.array([1, 1, 1]), \n",
    "    np.array([[50, 0., 0.], \n",
    "     [0., 47, 1],\n",
    "     [0, 2, 4],\n",
    "     [0, 1, 45]])\n",
    "]\n",
    "\n",
    "route_array = np.array([\n",
    "    [1, 0, 0, 0, 0, 0], \n",
    "    [0, 1, 1, 1, 0, 0],\n",
    "    [0, 1, 0, 1, 0, 1],\n",
    "    [0, 0, 0, 1, 1, 0]\n",
    "])\n",
    "\n",
    "sparse_info = np.array([\n",
    "    [0, 0, 0, 1],\n",
    "    [0, 0, 0, 1],\n",
    "    [0, 0, 1, 0]\n",
    "]).T"
   ]
  },
  {
   "cell_type": "code",
   "execution_count": 8,
   "metadata": {},
   "outputs": [],
   "source": [
    "# hard code all things\n",
    "def sigmoid(z):\n",
    "    return 1. / ( 1 + np.exp(-z) )\n",
    "\n",
    "# softmax by axis...\n",
    "def gumbel_softmax(x, tau=1.0, eps=np.finfo(float).eps):\n",
    "    # element-wise gumbel softmax\n",
    "    # return np.exp(np.log(X+eps)/temp)/np.sum(np.exp(np.log(X+eps)/temp), axis=1)[:, np.newaxis]\n",
    "    return 1/(1+np.exp(-(x)/tau))"
   ]
  },
  {
   "cell_type": "code",
   "execution_count": 9,
   "metadata": {},
   "outputs": [],
   "source": [
    "coef, inter, leaf = param"
   ]
  },
  {
   "cell_type": "code",
   "execution_count": 11,
   "metadata": {},
   "outputs": [],
   "source": [
    "coef_sparse = coef * sparse_info"
   ]
  },
  {
   "cell_type": "code",
   "execution_count": 10,
   "metadata": {},
   "outputs": [
    {
     "data": {
      "text/plain": [
       "0.9733333333333334"
      ]
     },
     "execution_count": 10,
     "metadata": {},
     "output_type": "execute_result"
    }
   ],
   "source": [
    "clf.score(X, y)"
   ]
  },
  {
   "cell_type": "code",
   "execution_count": 12,
   "metadata": {},
   "outputs": [
    {
     "data": {
      "text/plain": [
       "0.9733333333333334"
      ]
     },
     "execution_count": 12,
     "metadata": {},
     "output_type": "execute_result"
    }
   ],
   "source": [
    "# short version\n",
    "decisions = np.dot(X, np.hstack([coef_sparse, -coef_sparse]))+np.hstack([inter, -inter])\n",
    "decision_soft = np.log(np.round(gumbel_softmax(decisions, tau=1.0))+1e-11)\n",
    "route_probas = np.exp(np.dot(decision_soft, route_array.T))\n",
    "proba = np.dot(route_probas, leaf)\n",
    "\n",
    "accuracy_score(y, np.argmax(proba, axis=1))"
   ]
  }
 ],
 "metadata": {
  "kernelspec": {
   "display_name": "Python [default]",
   "language": "python",
   "name": "python3"
  },
  "language_info": {
   "codemirror_mode": {
    "name": "ipython",
    "version": 3
   },
   "file_extension": ".py",
   "mimetype": "text/x-python",
   "name": "python",
   "nbconvert_exporter": "python",
   "pygments_lexer": "ipython3",
   "version": "3.6.5"
  }
 },
 "nbformat": 4,
 "nbformat_minor": 2
}
