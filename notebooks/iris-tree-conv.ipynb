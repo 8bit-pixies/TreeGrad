{
 "cells": [
  {
   "cell_type": "code",
   "execution_count": 1,
   "metadata": {},
   "outputs": [
    {
     "data": {
      "text/plain": [
       "DecisionTreeClassifier(class_weight=None, criterion='gini', max_depth=None,\n",
       "                       max_features=None, max_leaf_nodes=4,\n",
       "                       min_impurity_decrease=0.0, min_impurity_split=None,\n",
       "                       min_samples_leaf=1, min_samples_split=2,\n",
       "                       min_weight_fraction_leaf=0.0, presort=False,\n",
       "                       random_state=None, splitter='best')"
      ]
     },
     "execution_count": 1,
     "metadata": {},
     "output_type": "execute_result"
    }
   ],
   "source": [
    "from sklearn.datasets import load_iris\n",
    "from sklearn import tree\n",
    "from sklearn.tree import _tree\n",
    "import lightgbm as lgb\n",
    "from sklearn.metrics import accuracy_score\n",
    "\n",
    "def tree_to_code(tree, feature_names):\n",
    "    tree_ = tree.tree_\n",
    "    feature_name = [\n",
    "        feature_names[i] if i != _tree.TREE_UNDEFINED else \"undefined!\"\n",
    "        for i in tree_.feature\n",
    "    ]\n",
    "    print(\"def tree({}):\".format(\", \".join(feature_names)))\n",
    "\n",
    "    def recurse(node, depth):\n",
    "        indent = \"  \" * depth\n",
    "        if tree_.feature[node] != _tree.TREE_UNDEFINED:\n",
    "            name = feature_name[node]\n",
    "            threshold = tree_.threshold[node]\n",
    "            print(\"{}if {} <= {}:\".format(indent, name, threshold))\n",
    "            recurse(tree_.children_left[node], depth + 1)\n",
    "            print(\"{}else:  # if {} > {}\".format(indent, name, threshold))\n",
    "            recurse(tree_.children_right[node], depth + 1)\n",
    "        else:\n",
    "            print(\"{}return {}\".format(indent, tree_.value[node]))\n",
    "\n",
    "    recurse(0, 1)\n",
    "    \n",
    "iris = load_iris()\n",
    "X = iris.data\n",
    "y = iris.target\n",
    "\n",
    "clf = tree.DecisionTreeClassifier(max_leaf_nodes=4)\n",
    "clf.fit(X, y)"
   ]
  },
  {
   "cell_type": "code",
   "execution_count": 2,
   "metadata": {},
   "outputs": [],
   "source": [
    "# dot -Tpng tree.dot -o tree.png \n",
    "# tree.export_graphviz(clf, out_file='tree_draft.dot')  "
   ]
  },
  {
   "cell_type": "code",
   "execution_count": 3,
   "metadata": {},
   "outputs": [],
   "source": [
    "# !dot -Tpng tree.dot -o tree.png "
   ]
  },
  {
   "cell_type": "code",
   "execution_count": 4,
   "metadata": {},
   "outputs": [
    {
     "data": {
      "text/plain": [
       "0.9733333333333334"
      ]
     },
     "execution_count": 4,
     "metadata": {},
     "output_type": "execute_result"
    }
   ],
   "source": [
    "clf.score(X, y)"
   ]
  },
  {
   "cell_type": "code",
   "execution_count": 5,
   "metadata": {},
   "outputs": [
    {
     "data": {
      "text/plain": [
       "['sepal length (cm)',\n",
       " 'sepal width (cm)',\n",
       " 'petal length (cm)',\n",
       " 'petal width (cm)']"
      ]
     },
     "execution_count": 5,
     "metadata": {},
     "output_type": "execute_result"
    }
   ],
   "source": [
    "iris.feature_names"
   ]
  },
  {
   "cell_type": "code",
   "execution_count": 6,
   "metadata": {},
   "outputs": [
    {
     "name": "stdout",
     "output_type": "stream",
     "text": [
      "def tree(sepal length (cm), sepal width (cm), petal length (cm), petal width (cm)):\n",
      "  if petal width (cm) <= 0.800000011920929:\n",
      "    return [[50.  0.  0.]]\n",
      "  else:  # if petal width (cm) > 0.800000011920929\n",
      "    if petal width (cm) <= 1.75:\n",
      "      if petal length (cm) <= 4.950000047683716:\n",
      "        return [[ 0. 47.  1.]]\n",
      "      else:  # if petal length (cm) > 4.950000047683716\n",
      "        return [[0. 2. 4.]]\n",
      "    else:  # if petal width (cm) > 1.75\n",
      "      return [[ 0.  1. 45.]]\n"
     ]
    }
   ],
   "source": [
    "tree_to_code(clf, iris.feature_names)\n",
    "\n",
    "# note for boundaries...\n",
    "# 1/0.8 = 1.25\n",
    "# 1/1.75 = 0.57\n",
    "# 1/4.95 = 0.20"
   ]
  },
  {
   "cell_type": "code",
   "execution_count": 7,
   "metadata": {},
   "outputs": [],
   "source": [
    "# assume inter is always 1 for convenience\n",
    "param = [\n",
    "    np.array([-1.25, -0.57, -0.20]),\n",
    "    np.array([1, 1, 1]), \n",
    "    np.array([[50, 0., 0.], \n",
    "     [0., 47, 1],\n",
    "     [0, 2, 4],\n",
    "     [0, 1, 45]])\n",
    "]\n",
    "\n",
    "route_array = np.array([\n",
    "    [1, 0, 0, 0, 0, 0], \n",
    "    [0, 1, 1, 1, 0, 0],\n",
    "    [0, 1, 0, 1, 0, 1],\n",
    "    [0, 0, 0, 1, 1, 0]\n",
    "])\n",
    "\n",
    "sparse_info = np.array([\n",
    "    [0, 0, 0, 1],\n",
    "    [0, 0, 0, 1],\n",
    "    [0, 0, 1, 0]\n",
    "]).T"
   ]
  },
  {
   "cell_type": "code",
   "execution_count": 8,
   "metadata": {},
   "outputs": [],
   "source": [
    "# hard code all things\n",
    "def sigmoid(z):\n",
    "    return 1. / ( 1 + np.exp(-z) )\n",
    "\n",
    "# softmax by axis...\n",
    "def gumbel_softmax(x, tau=1.0, eps=np.finfo(float).eps):\n",
    "    # element-wise gumbel softmax\n",
    "    # return np.exp(np.log(X+eps)/temp)/np.sum(np.exp(np.log(X+eps)/temp), axis=1)[:, np.newaxis]\n",
    "    return 1/(1+np.exp(-(x)/tau))"
   ]
  },
  {
   "cell_type": "code",
   "execution_count": 9,
   "metadata": {},
   "outputs": [],
   "source": [
    "coef, inter, leaf = param"
   ]
  },
  {
   "cell_type": "code",
   "execution_count": 10,
   "metadata": {},
   "outputs": [],
   "source": [
    "coef_sparse = coef * sparse_info"
   ]
  },
  {
   "cell_type": "code",
   "execution_count": 11,
   "metadata": {},
   "outputs": [
    {
     "data": {
      "text/plain": [
       "0.9733333333333334"
      ]
     },
     "execution_count": 11,
     "metadata": {},
     "output_type": "execute_result"
    }
   ],
   "source": [
    "clf.score(X, y)"
   ]
  },
  {
   "cell_type": "code",
   "execution_count": 12,
   "metadata": {},
   "outputs": [
    {
     "data": {
      "text/plain": [
       "0.9733333333333334"
      ]
     },
     "execution_count": 12,
     "metadata": {},
     "output_type": "execute_result"
    }
   ],
   "source": [
    "# short version\n",
    "decisions = np.dot(X, np.hstack([coef_sparse, -coef_sparse]))+np.hstack([inter, -inter])\n",
    "decision_soft = np.log(gumbel_softmax(decisions, tau=0.01))\n",
    "route_probas = np.exp(np.dot(decision_soft, route_array.T))\n",
    "proba = np.dot(route_probas, leaf)\n",
    "\n",
    "accuracy_score(y, np.argmax(proba, axis=1))"
   ]
  },
  {
   "cell_type": "code",
   "execution_count": 13,
   "metadata": {},
   "outputs": [],
   "source": [
    "from tensorflow.keras.layers import Conv1D, Input, Lambda, GlobalMaxPooling1D, LocallyConnected1D, Dense, Concatenate\n",
    "from tensorflow.keras.models import Model\n",
    "import tensorflow.keras.backend as K\n",
    "import tensorflow.keras as keras\n",
    "from tensorflow.keras.constraints import non_neg"
   ]
  },
  {
   "cell_type": "code",
   "execution_count": 14,
   "metadata": {},
   "outputs": [],
   "source": [
    "def keras_gumbel_softmax(x, tau=1.0, eps=np.finfo(float).eps):\n",
    "    # element-wise gumbel softmax\n",
    "    # return np.exp(np.log(X+eps)/temp)/np.sum(np.exp(np.log(X+eps)/temp), axis=1)[:, np.newaxis]\n",
    "    x_clip = K.clip(-(x+eps)/tau, -32, 32)\n",
    "    \n",
    "    return 1/(1+K.exp(x_clip))"
   ]
  },
  {
   "cell_type": "code",
   "execution_count": 15,
   "metadata": {},
   "outputs": [
    {
     "name": "stdout",
     "output_type": "stream",
     "text": [
      "Model: \"model\"\n",
      "__________________________________________________________________________________________________\n",
      "Layer (type)                    Output Shape         Param #     Connected to                     \n",
      "==================================================================================================\n",
      "input_1 (InputLayer)            [(None, 4)]          0                                            \n",
      "__________________________________________________________________________________________________\n",
      "lambda (Lambda)                 (None, 4, 1)         0           input_1[0][0]                    \n",
      "__________________________________________________________________________________________________\n",
      "nodes (Conv1D)                  (None, 1, 3)         15          lambda[0][0]                     \n",
      "__________________________________________________________________________________________________\n",
      "global_max_pooling1d (GlobalMax (None, 3)            0           nodes[0][0]                      \n",
      "__________________________________________________________________________________________________\n",
      "lambda_1 (Lambda)               (None, 3)            0           global_max_pooling1d[0][0]       \n",
      "__________________________________________________________________________________________________\n",
      "lambda_2 (Lambda)               (None, 3)            0           global_max_pooling1d[0][0]       \n",
      "__________________________________________________________________________________________________\n",
      "decision (Concatenate)          (None, 6)            0           lambda_1[0][0]                   \n",
      "                                                                 lambda_2[0][0]                   \n",
      "__________________________________________________________________________________________________\n",
      "lambda_3 (Lambda)               (None, 6)            0           decision[0][0]                   \n",
      "__________________________________________________________________________________________________\n",
      "route (Dense)                   (None, 4)            24          lambda_3[0][0]                   \n",
      "__________________________________________________________________________________________________\n",
      "lambda_4 (Lambda)               (None, 4)            0           route[0][0]                      \n",
      "__________________________________________________________________________________________________\n",
      "leaf (Dense)                    (None, 3)            12          lambda_4[0][0]                   \n",
      "==================================================================================================\n",
      "Total params: 51\n",
      "Trainable params: 27\n",
      "Non-trainable params: 24\n",
      "__________________________________________________________________________________________________\n"
     ]
    }
   ],
   "source": [
    "iris_input = Input(shape=(4,))\n",
    "iris_axis = Lambda(lambda x: K.expand_dims(x, -1))(iris_input)\n",
    "iris_conv = Conv1D(3, (4), strides=4, padding='same', name='nodes')(iris_axis)\n",
    "iris_pooled = GlobalMaxPooling1D()(iris_conv)\n",
    "\n",
    "iris_left = Lambda(lambda x: keras_gumbel_softmax(x, 0.1))(iris_pooled)\n",
    "iris_right = Lambda(lambda x: keras_gumbel_softmax(-x, 0.1))(iris_pooled)\n",
    "iris_decisions = Concatenate(name='decision')([iris_left, iris_right])\n",
    "\n",
    "iris_log_decisions = Lambda(lambda x: K.log(x))(iris_decisions)\n",
    "iris_route = Dense(4, use_bias=False, trainable=False, name='route')(iris_log_decisions) # this is normally a dense layer which is not trained - i.e. a fix adj. matrix in graphcnn\n",
    "iris_exp_route = Lambda(lambda x: K.exp(x))(iris_route)\n",
    "iris_leaf = Dense(3, activation='softmax', name='leaf', use_bias=False) (iris_exp_route) # this is the output leaves\n",
    "\n",
    "iris_model = Model(inputs=iris_input, outputs=iris_leaf)\n",
    "iris_model.compile(optimizer='adam', loss='categorical_crossentropy', metrics=['accuracy'])\n",
    "iris_model.summary()"
   ]
  },
  {
   "cell_type": "code",
   "execution_count": 16,
   "metadata": {},
   "outputs": [],
   "source": [
    "tf_coef = np.expand_dims(coef_sparse, axis=1)\n",
    "\n",
    "iris_model.get_layer('nodes').set_weights([tf_coef, inter])\n",
    "iris_model.get_layer('route').set_weights([route_array.T])\n",
    "iris_model.get_layer('leaf').set_weights([leaf])"
   ]
  },
  {
   "cell_type": "code",
   "execution_count": 17,
   "metadata": {},
   "outputs": [
    {
     "data": {
      "text/plain": [
       "0.96"
      ]
     },
     "execution_count": 17,
     "metadata": {},
     "output_type": "execute_result"
    }
   ],
   "source": [
    "accuracy_score(y, np.argmax(iris_model.predict(X), axis=1))"
   ]
  },
  {
   "cell_type": "code",
   "execution_count": 19,
   "metadata": {},
   "outputs": [],
   "source": [
    "y_cat = keras.utils.to_categorical(y)"
   ]
  },
  {
   "cell_type": "code",
   "execution_count": 22,
   "metadata": {},
   "outputs": [
    {
     "data": {
      "text/plain": [
       "<tensorflow.python.keras.callbacks.History at 0x1f0c24bb128>"
      ]
     },
     "execution_count": 22,
     "metadata": {},
     "output_type": "execute_result"
    }
   ],
   "source": [
    "iris_model.fit(X, y_cat, epochs=10, verbose=0)"
   ]
  },
  {
   "cell_type": "code",
   "execution_count": 23,
   "metadata": {},
   "outputs": [
    {
     "data": {
      "text/plain": [
       "0.96"
      ]
     },
     "execution_count": 23,
     "metadata": {},
     "output_type": "execute_result"
    }
   ],
   "source": [
    "accuracy_score(y, np.argmax(iris_model.predict(X), axis=1))"
   ]
  }
 ],
 "metadata": {
  "kernelspec": {
   "display_name": "Python [default]",
   "language": "python",
   "name": "python3"
  },
  "language_info": {
   "codemirror_mode": {
    "name": "ipython",
    "version": 3
   },
   "file_extension": ".py",
   "mimetype": "text/x-python",
   "name": "python",
   "nbconvert_exporter": "python",
   "pygments_lexer": "ipython3",
   "version": "3.6.5"
  }
 },
 "nbformat": 4,
 "nbformat_minor": 2
}
