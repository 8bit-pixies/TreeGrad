{
  "nbformat": 4,
  "nbformat_minor": 0,
  "metadata": {
    "colab": {
      "name": "treegrad_tf.ipynb",
      "version": "0.3.2",
      "provenance": [],
      "collapsed_sections": []
    },
    "kernelspec": {
      "name": "python3",
      "display_name": "Python 3"
    },
    "accelerator": "GPU"
  },
  "cells": [
    {
      "metadata": {
        "id": "Mh0Y-o4ZCKAd",
        "colab_type": "code",
        "colab": {}
      },
      "cell_type": "code",
      "source": [
        "from __future__ import absolute_import, division, print_function, unicode_literals\n",
        "\n",
        "!pip install -q tensorflow==2.0.0-alpha0 treegrad\n",
        "import tensorflow as tf\n",
        "import numpy as np"
      ],
      "execution_count": 0,
      "outputs": []
    },
    {
      "metadata": {
        "id": "glyp-yCdC4S5",
        "colab_type": "code",
        "outputId": "97ca524a-cdc7-439f-8f43-f0641900d856",
        "colab": {
          "base_uri": "https://localhost:8080/",
          "height": 35
        }
      },
      "cell_type": "code",
      "source": [
        "tf.__version__"
      ],
      "execution_count": 0,
      "outputs": [
        {
          "output_type": "execute_result",
          "data": {
            "text/plain": [
              "'2.0.0-alpha0'"
            ]
          },
          "metadata": {
            "tags": []
          },
          "execution_count": 2
        }
      ]
    },
    {
      "metadata": {
        "id": "KhRhLqSIMVMQ",
        "colab_type": "text"
      },
      "cell_type": "markdown",
      "source": [
        "In this example, we will perform scoring on an Iris dataset using TreeGrad related formulation to demonstrate the application of a 3-layer neural network."
      ]
    },
    {
      "metadata": {
        "id": "WM48tZhKMUxH",
        "colab_type": "code",
        "outputId": "b4ef73c8-7b9d-43d9-9125-e25e27a9aaca",
        "colab": {
          "base_uri": "https://localhost:8080/",
          "height": 219
        }
      },
      "cell_type": "code",
      "source": [
        "from sklearn.datasets import load_iris\n",
        "from sklearn import tree\n",
        "from sklearn.tree import _tree\n",
        "import lightgbm as lgb\n",
        "from sklearn.metrics import accuracy_score\n",
        "\n",
        "def tree_to_code(tree, feature_names):\n",
        "    tree_ = tree.tree_\n",
        "    feature_name = [\n",
        "        feature_names[i] if i != _tree.TREE_UNDEFINED else \"undefined!\"\n",
        "        for i in tree_.feature\n",
        "    ]\n",
        "    print(\"def tree({}):\".format(\", \".join(feature_names)))\n",
        "\n",
        "    def recurse(node, depth):\n",
        "        indent = \"  \" * depth\n",
        "        if tree_.feature[node] != _tree.TREE_UNDEFINED:\n",
        "            name = feature_name[node]\n",
        "            threshold = tree_.threshold[node]\n",
        "            print(\"{}if {} <= {}:\".format(indent, name, threshold))\n",
        "            recurse(tree_.children_left[node], depth + 1)\n",
        "            print(\"{}else:  # if {} > {}\".format(indent, name, threshold))\n",
        "            recurse(tree_.children_right[node], depth + 1)\n",
        "        else:\n",
        "            print(\"{}return {}\".format(indent, tree_.value[node]))\n",
        "\n",
        "    recurse(0, 1)\n",
        "    \n",
        "iris = load_iris()\n",
        "X = iris.data\n",
        "y = iris.target\n",
        "\n",
        "clf = tree.DecisionTreeClassifier(max_leaf_nodes=4)\n",
        "clf.fit(X, y)\n",
        "\n",
        "tree_to_code(clf, iris.feature_names)"
      ],
      "execution_count": 0,
      "outputs": [
        {
          "output_type": "stream",
          "text": [
            "def tree(sepal length (cm), sepal width (cm), petal length (cm), petal width (cm)):\n",
            "  if petal length (cm) <= 2.449999988079071:\n",
            "    return [[50.  0.  0.]]\n",
            "  else:  # if petal length (cm) > 2.449999988079071\n",
            "    if petal width (cm) <= 1.75:\n",
            "      if petal length (cm) <= 4.950000047683716:\n",
            "        return [[ 0. 47.  1.]]\n",
            "      else:  # if petal length (cm) > 4.950000047683716\n",
            "        return [[0. 2. 4.]]\n",
            "    else:  # if petal width (cm) > 1.75\n",
            "      return [[ 0.  1. 45.]]\n"
          ],
          "name": "stdout"
        }
      ]
    },
    {
      "metadata": {
        "id": "YmHQ8Ki0MmMT",
        "colab_type": "code",
        "colab": {}
      },
      "cell_type": "code",
      "source": [
        "# assume inter is always 1 for convenience\n",
        "param = [\n",
        "    np.array([-1.25, -0.57, -0.20]),\n",
        "    np.array([1, 1, 1]), \n",
        "    np.array([[50, 0., 0.], \n",
        "     [0., 47, 1],\n",
        "     [0, 2, 4],\n",
        "     [0, 1, 45]])\n",
        "]\n",
        "\n",
        "route_array = np.array([\n",
        "    [1, 0, 0, 0, 0, 0], \n",
        "    [0, 1, 1, 1, 0, 0],\n",
        "    [0, 1, 0, 1, 0, 1],\n",
        "    [0, 0, 0, 1, 1, 0]\n",
        "])\n",
        "\n",
        "sparse_info = np.array([\n",
        "    [0, 0, 0, 1],\n",
        "    [0, 0, 0, 1],\n",
        "    [0, 0, 1, 0]\n",
        "]).T\n",
        "\n",
        "coef, inter, leaf = param\n",
        "coef_sparse = sparse_info*coef"
      ],
      "execution_count": 0,
      "outputs": []
    },
    {
      "metadata": {
        "id": "C9jhVYFiDSjf",
        "colab_type": "code",
        "colab": {}
      },
      "cell_type": "code",
      "source": [
        "# to build tree model, it is just a three layer neural network - lets see how we go...\n",
        "\n",
        "class NodeLayer(tf.keras.layers.Layer):\n",
        "  def __init__(self, num_nodes):\n",
        "    super(NodeLayer, self).__init__()\n",
        "    self.num_nodes = num_nodes\n",
        "    \n",
        "  def build(self, input_shape):\n",
        "    # we may want a sparse one later...ignore it for now\n",
        "    self.kernel = self.add_variable(\"kernel\", \n",
        "                                    shape=[int(input_shape[-1]), \n",
        "                                           self.num_nodes])\n",
        "    self.bias = self.add_variable(\"bias\", shape=[self.num_nodes,])\n",
        "    \n",
        "  def call(self, input):\n",
        "    return tf.matmul(input, tf.concat([self.kernel, -self.kernel], 1)) + tf.concat([self.bias, -self.bias], 0)\n",
        "\n",
        "  \n",
        "def gumbel_softmax(x, tau=0.01):\n",
        "  x_temp = tf.clip_by_value(x/tau, -32, 32)\n",
        "  return 1/(1+tf.keras.backend.exp(-(x)))\n",
        "\n",
        "def activation1(x):\n",
        "  return tf.keras.backend.log(gumbel_softmax(x)+tf.keras.backend.epsilon())\n",
        "\n",
        "def activation2(x):\n",
        "  return tf.keras.backend.exp(x)\n",
        "\n",
        "# route layer is Dense(num_nodes+1)\n",
        "# leaf layer is Dense(1)\n",
        "num_nodes = 3\n",
        "decision_tree = tf.keras.Sequential([\n",
        "    NodeLayer(num_nodes),\n",
        "    tf.keras.layers.Lambda(activation1),\n",
        "    tf.keras.layers.Dense(num_nodes+1, trainable=False, use_bias=False),\n",
        "    tf.keras.layers.Lambda(activation2),\n",
        "    tf.keras.layers.Dense(3, use_bias=False)\n",
        "])"
      ],
      "execution_count": 0,
      "outputs": []
    },
    {
      "metadata": {
        "id": "CZo06bK7NJ9K",
        "colab_type": "code",
        "colab": {}
      },
      "cell_type": "code",
      "source": [
        "iris_pred = decision_tree(X)"
      ],
      "execution_count": 0,
      "outputs": []
    },
    {
      "metadata": {
        "id": "CaR8Pa8QNXJ9",
        "colab_type": "code",
        "outputId": "a1a7489d-cb85-4422-94a3-a21d94501a31",
        "colab": {
          "base_uri": "https://localhost:8080/",
          "height": 109
        }
      },
      "cell_type": "code",
      "source": [
        "decision_tree.layers"
      ],
      "execution_count": 0,
      "outputs": [
        {
          "output_type": "execute_result",
          "data": {
            "text/plain": [
              "[<__main__.NodeLayer at 0x7fab59955518>,\n",
              " <tensorflow.python.keras.layers.core.Lambda at 0x7fab59955780>,\n",
              " <tensorflow.python.keras.layers.core.Dense at 0x7fab599558d0>,\n",
              " <tensorflow.python.keras.layers.core.Lambda at 0x7fab59955c18>,\n",
              " <tensorflow.python.keras.layers.core.Dense at 0x7fab59955d68>]"
            ]
          },
          "metadata": {
            "tags": []
          },
          "execution_count": 7
        }
      ]
    },
    {
      "metadata": {
        "id": "1YWq1SNnK_Lo",
        "colab_type": "code",
        "colab": {}
      },
      "cell_type": "code",
      "source": [
        "# set parameters for iris dataset\n",
        "decision_tree.layers[0].set_weights([coef_sparse, inter])\n",
        "decision_tree.layers[2].set_weights([route_array.T])\n",
        "decision_tree.layers[4].set_weights([leaf])"
      ],
      "execution_count": 0,
      "outputs": []
    },
    {
      "metadata": {
        "id": "5NqTdSR0LRlQ",
        "colab_type": "code",
        "outputId": "dbfa9a36-df1a-4bc9-dd2f-2bfe3cffb173",
        "colab": {
          "base_uri": "https://localhost:8080/",
          "height": 146
        }
      },
      "cell_type": "code",
      "source": [
        "# prediction from neural network\n",
        "np.argmax(np.array(decision_tree(X)), axis=1)"
      ],
      "execution_count": 0,
      "outputs": [
        {
          "output_type": "execute_result",
          "data": {
            "text/plain": [
              "array([0, 0, 0, 0, 0, 0, 0, 0, 0, 0, 0, 0, 0, 0, 0, 0, 0, 0, 0, 0, 0, 0,\n",
              "       0, 0, 0, 0, 0, 0, 0, 0, 0, 0, 0, 0, 0, 0, 0, 0, 0, 0, 0, 0, 0, 0,\n",
              "       0, 0, 0, 0, 0, 0, 1, 1, 1, 1, 1, 1, 1, 1, 1, 1, 1, 1, 1, 1, 1, 1,\n",
              "       1, 1, 1, 1, 2, 1, 1, 1, 1, 1, 1, 1, 1, 1, 1, 1, 1, 1, 1, 1, 1, 1,\n",
              "       1, 1, 1, 1, 1, 1, 1, 1, 1, 1, 1, 1, 2, 2, 2, 2, 2, 2, 1, 2, 2, 2,\n",
              "       2, 2, 2, 2, 2, 2, 2, 2, 2, 1, 2, 2, 2, 2, 2, 2, 2, 2, 2, 2, 2, 2,\n",
              "       2, 1, 2, 2, 2, 2, 2, 2, 2, 2, 2, 2, 2, 2, 2, 2, 2, 2])"
            ]
          },
          "metadata": {
            "tags": []
          },
          "execution_count": 9
        }
      ]
    },
    {
      "metadata": {
        "id": "15o1I8UySgd2",
        "colab_type": "text"
      },
      "cell_type": "markdown",
      "source": [
        "If we want to build a sparse tree, we just need to alter the construction of the `NodeLayer`"
      ]
    },
    {
      "metadata": {
        "id": "6jO06iXuSkze",
        "colab_type": "code",
        "colab": {}
      },
      "cell_type": "code",
      "source": [
        "# to build tree model, it is just a three layer neural network - lets see how we go...\n",
        "\n",
        "class NodeLayer(tf.keras.layers.Layer):\n",
        "  def __init__(self, num_nodes):\n",
        "    super(NodeLayer, self).__init__()\n",
        "    self.num_nodes = num_nodes\n",
        "    \n",
        "  def build(self, input_shape):\n",
        "    # we may want a sparse one later...ignore it for now\n",
        "    self.sparse = self.add_variable(\"sparse\", \n",
        "                                    shape=[int(input_shape[-1]), \n",
        "                                           self.num_nodes],\n",
        "                                    trainable=False)\n",
        "    self.kernel = self.add_variable(\"kernel\", shape=[self.num_nodes,])\n",
        "    self.bias = self.add_variable(\"bias\", shape=[self.num_nodes,])\n",
        "    \n",
        "  def call(self, input):\n",
        "    coef = self.kernel * self.sparse\n",
        "    return tf.matmul(input, tf.concat([coef, -coef], 1)) + tf.concat([self.bias, -self.bias], 0)\n",
        "\n",
        "# route layer is Dense(num_nodes+1)\n",
        "# leaf layer is Dense(1)\n",
        "num_nodes = 3\n",
        "decision_tree = tf.keras.Sequential([\n",
        "    NodeLayer(num_nodes),\n",
        "    tf.keras.layers.Lambda(activation1),\n",
        "    tf.keras.layers.Dense(num_nodes+1, trainable=False, use_bias=False),\n",
        "    tf.keras.layers.Lambda(activation2),\n",
        "    tf.keras.layers.Dense(3, use_bias=False)\n",
        "])"
      ],
      "execution_count": 0,
      "outputs": []
    },
    {
      "metadata": {
        "id": "hFElQQBOUSiR",
        "colab_type": "code",
        "colab": {}
      },
      "cell_type": "code",
      "source": [
        "iris_pred = decision_tree(X)"
      ],
      "execution_count": 0,
      "outputs": []
    },
    {
      "metadata": {
        "id": "wiInNnl1UeMS",
        "colab_type": "code",
        "colab": {}
      },
      "cell_type": "code",
      "source": [
        "decision_tree.layers[0].set_weights([coef, inter, sparse_info])\n",
        "decision_tree.layers[2].set_weights([route_array.T])\n",
        "decision_tree.layers[4].set_weights([leaf])"
      ],
      "execution_count": 0,
      "outputs": []
    },
    {
      "metadata": {
        "id": "egXpPb9YUbbp",
        "colab_type": "code",
        "outputId": "60867ef2-2e7d-431f-a521-ca669413162c",
        "colab": {
          "base_uri": "https://localhost:8080/",
          "height": 146
        }
      },
      "cell_type": "code",
      "source": [
        "# set parameters for iris dataset\n",
        "np.argmax(np.array(decision_tree(X)), axis=1)\n"
      ],
      "execution_count": 0,
      "outputs": [
        {
          "output_type": "execute_result",
          "data": {
            "text/plain": [
              "array([2, 2, 2, 2, 2, 2, 2, 2, 2, 2, 2, 2, 2, 2, 2, 2, 2, 2, 2, 2, 2, 2,\n",
              "       2, 2, 2, 2, 2, 2, 2, 2, 2, 2, 2, 2, 2, 2, 2, 2, 2, 2, 2, 2, 2, 1,\n",
              "       2, 2, 2, 2, 2, 2, 0, 0, 0, 0, 0, 0, 0, 1, 0, 0, 1, 0, 1, 0, 0, 0,\n",
              "       0, 1, 0, 1, 0, 0, 0, 1, 0, 0, 0, 0, 0, 1, 1, 1, 1, 0, 0, 0, 0, 0,\n",
              "       0, 0, 1, 0, 1, 1, 0, 1, 0, 0, 1, 0, 0, 0, 0, 0, 0, 0, 0, 0, 0, 0,\n",
              "       0, 0, 0, 0, 0, 0, 0, 0, 0, 0, 0, 0, 0, 0, 0, 0, 0, 0, 0, 0, 0, 0,\n",
              "       0, 0, 0, 0, 0, 0, 0, 0, 0, 0, 0, 0, 0, 0, 0, 0, 0, 0])"
            ]
          },
          "metadata": {
            "tags": []
          },
          "execution_count": 37
        }
      ]
    },
    {
      "metadata": {
        "id": "2Kphs_TLZp4a",
        "colab_type": "code",
        "colab": {}
      },
      "cell_type": "code",
      "source": [
        ""
      ],
      "execution_count": 0,
      "outputs": []
    }
  ]
}