{
 "cells": [
  {
   "cell_type": "code",
   "execution_count": null,
   "metadata": {
    "colab": {},
    "colab_type": "code",
    "id": "Mh0Y-o4ZCKAd"
   },
   "outputs": [],
   "source": [
    "from __future__ import absolute_import, division, print_function, unicode_literals\n",
    "\n",
    "!pip install -q tensorflow==2.0.0-alpha0 treegrad\n",
    "import tensorflow as tf\n",
    "import numpy as np"
   ]
  },
  {
   "cell_type": "code",
   "execution_count": null,
   "metadata": {
    "colab": {
     "base_uri": "https://localhost:8080/",
     "height": 35
    },
    "colab_type": "code",
    "id": "glyp-yCdC4S5",
    "outputId": "97ca524a-cdc7-439f-8f43-f0641900d856"
   },
   "outputs": [
    {
     "data": {
      "text/plain": [
       "'2.0.0-alpha0'"
      ]
     },
     "execution_count": 2,
     "metadata": {
      "tags": []
     },
     "output_type": "execute_result"
    }
   ],
   "source": [
    "tf.__version__"
   ]
  },
  {
   "cell_type": "markdown",
   "metadata": {
    "colab_type": "text",
    "id": "KhRhLqSIMVMQ"
   },
   "source": [
    "In this example, we will perform scoring on an Iris dataset using TreeGrad related formulation to demonstrate the application of a 3-layer neural network."
   ]
  },
  {
   "cell_type": "code",
   "execution_count": null,
   "metadata": {
    "colab": {
     "base_uri": "https://localhost:8080/",
     "height": 219
    },
    "colab_type": "code",
    "id": "WM48tZhKMUxH",
    "outputId": "b4ef73c8-7b9d-43d9-9125-e25e27a9aaca"
   },
   "outputs": [
    {
     "name": "stdout",
     "output_type": "stream",
     "text": [
      "def tree(sepal length (cm), sepal width (cm), petal length (cm), petal width (cm)):\n",
      "  if petal length (cm) <= 2.449999988079071:\n",
      "    return [[50.  0.  0.]]\n",
      "  else:  # if petal length (cm) > 2.449999988079071\n",
      "    if petal width (cm) <= 1.75:\n",
      "      if petal length (cm) <= 4.950000047683716:\n",
      "        return [[ 0. 47.  1.]]\n",
      "      else:  # if petal length (cm) > 4.950000047683716\n",
      "        return [[0. 2. 4.]]\n",
      "    else:  # if petal width (cm) > 1.75\n",
      "      return [[ 0.  1. 45.]]\n"
     ]
    }
   ],
   "source": [
    "from sklearn.datasets import load_iris\n",
    "from sklearn import tree\n",
    "from sklearn.tree import _tree\n",
    "import lightgbm as lgb\n",
    "from sklearn.metrics import accuracy_score\n",
    "\n",
    "def tree_to_code(tree, feature_names):\n",
    "    tree_ = tree.tree_\n",
    "    feature_name = [\n",
    "        feature_names[i] if i != _tree.TREE_UNDEFINED else \"undefined!\"\n",
    "        for i in tree_.feature\n",
    "    ]\n",
    "    print(\"def tree({}):\".format(\", \".join(feature_names)))\n",
    "\n",
    "    def recurse(node, depth):\n",
    "        indent = \"  \" * depth\n",
    "        if tree_.feature[node] != _tree.TREE_UNDEFINED:\n",
    "            name = feature_name[node]\n",
    "            threshold = tree_.threshold[node]\n",
    "            print(\"{}if {} <= {}:\".format(indent, name, threshold))\n",
    "            recurse(tree_.children_left[node], depth + 1)\n",
    "            print(\"{}else:  # if {} > {}\".format(indent, name, threshold))\n",
    "            recurse(tree_.children_right[node], depth + 1)\n",
    "        else:\n",
    "            print(\"{}return {}\".format(indent, tree_.value[node]))\n",
    "\n",
    "    recurse(0, 1)\n",
    "    \n",
    "iris = load_iris()\n",
    "X = iris.data\n",
    "y = iris.target\n",
    "\n",
    "clf = tree.DecisionTreeClassifier(max_leaf_nodes=4)\n",
    "clf.fit(X, y)\n",
    "\n",
    "tree_to_code(clf, iris.feature_names)"
   ]
  },
  {
   "cell_type": "code",
   "execution_count": null,
   "metadata": {
    "colab": {},
    "colab_type": "code",
    "id": "YmHQ8Ki0MmMT"
   },
   "outputs": [],
   "source": [
    "# assume inter is always 1 for convenience\n",
    "param = [\n",
    "    np.array([-1.25, -0.57, -0.20]),\n",
    "    np.array([1, 1, 1]), \n",
    "    np.array([[50, 0., 0.], \n",
    "     [0., 47, 1],\n",
    "     [0, 2, 4],\n",
    "     [0, 1, 45]])\n",
    "]\n",
    "\n",
    "route_array = np.array([\n",
    "    [1, 0, 0, 0, 0, 0], \n",
    "    [0, 1, 1, 1, 0, 0],\n",
    "    [0, 1, 0, 1, 0, 1],\n",
    "    [0, 0, 0, 1, 1, 0]\n",
    "])\n",
    "\n",
    "sparse_info = np.array([\n",
    "    [0, 0, 0, 1],\n",
    "    [0, 0, 0, 1],\n",
    "    [0, 0, 1, 0]\n",
    "]).T\n",
    "\n",
    "coef, inter, leaf = param\n",
    "coef_sparse = sparse_info*coef"
   ]
  },
  {
   "cell_type": "code",
   "execution_count": null,
   "metadata": {
    "colab": {},
    "colab_type": "code",
    "id": "C9jhVYFiDSjf"
   },
   "outputs": [],
   "source": [
    "# to build tree model, it is just a three layer neural network - lets see how we go...\n",
    "\n",
    "class NodeLayer(tf.keras.layers.Layer):\n",
    "  def __init__(self, num_nodes):\n",
    "    super(NodeLayer, self).__init__()\n",
    "    self.num_nodes = num_nodes\n",
    "    \n",
    "  def build(self, input_shape):\n",
    "    # we may want a sparse one later...ignore it for now\n",
    "    self.kernel = self.add_variable(\"kernel\", \n",
    "                                    shape=[int(input_shape[-1]), \n",
    "                                           self.num_nodes])\n",
    "    self.bias = self.add_variable(\"bias\", shape=[self.num_nodes,])\n",
    "    \n",
    "  def call(self, input):\n",
    "    return tf.matmul(input, tf.concat([self.kernel, -self.kernel], 1)) + tf.concat([self.bias, -self.bias], 0)\n",
    "\n",
    "  \n",
    "def gumbel_softmax(x, tau=0.01):\n",
    "  x_temp = tf.clip_by_value(x/tau, -32, 32)\n",
    "  return 1/(1+tf.keras.backend.exp(-(x)))\n",
    "\n",
    "def activation1(x):\n",
    "  return tf.keras.backend.log(gumbel_softmax(x)+tf.keras.backend.epsilon())\n",
    "\n",
    "def activation2(x):\n",
    "  return tf.keras.backend.exp(x)\n",
    "\n",
    "# route layer is Dense(num_nodes+1)\n",
    "# leaf layer is Dense(1)\n",
    "num_nodes = 3\n",
    "decision_tree = tf.keras.Sequential([\n",
    "    NodeLayer(num_nodes),\n",
    "    tf.keras.layers.Lambda(activation1),\n",
    "    tf.keras.layers.Dense(num_nodes+1, trainable=False, use_bias=False),\n",
    "    tf.keras.layers.Lambda(activation2),\n",
    "    tf.keras.layers.Dense(3, use_bias=False)\n",
    "])"
   ]
  },
  {
   "cell_type": "code",
   "execution_count": null,
   "metadata": {
    "colab": {},
    "colab_type": "code",
    "id": "CZo06bK7NJ9K"
   },
   "outputs": [],
   "source": [
    "iris_pred = decision_tree(X)"
   ]
  },
  {
   "cell_type": "code",
   "execution_count": null,
   "metadata": {
    "colab": {
     "base_uri": "https://localhost:8080/",
     "height": 109
    },
    "colab_type": "code",
    "id": "CaR8Pa8QNXJ9",
    "outputId": "a1a7489d-cb85-4422-94a3-a21d94501a31"
   },
   "outputs": [
    {
     "data": {
      "text/plain": [
       "[<__main__.NodeLayer at 0x7fab59955518>,\n",
       " <tensorflow.python.keras.layers.core.Lambda at 0x7fab59955780>,\n",
       " <tensorflow.python.keras.layers.core.Dense at 0x7fab599558d0>,\n",
       " <tensorflow.python.keras.layers.core.Lambda at 0x7fab59955c18>,\n",
       " <tensorflow.python.keras.layers.core.Dense at 0x7fab59955d68>]"
      ]
     },
     "execution_count": 7,
     "metadata": {
      "tags": []
     },
     "output_type": "execute_result"
    }
   ],
   "source": [
    "decision_tree.layers"
   ]
  },
  {
   "cell_type": "code",
   "execution_count": null,
   "metadata": {
    "colab": {},
    "colab_type": "code",
    "id": "1YWq1SNnK_Lo"
   },
   "outputs": [],
   "source": [
    "# set parameters for iris dataset\n",
    "decision_tree.layers[0].set_weights([coef_sparse, inter])\n",
    "decision_tree.layers[2].set_weights([route_array.T])\n",
    "decision_tree.layers[4].set_weights([leaf])"
   ]
  },
  {
   "cell_type": "code",
   "execution_count": null,
   "metadata": {
    "colab": {
     "base_uri": "https://localhost:8080/",
     "height": 146
    },
    "colab_type": "code",
    "id": "5NqTdSR0LRlQ",
    "outputId": "dbfa9a36-df1a-4bc9-dd2f-2bfe3cffb173"
   },
   "outputs": [
    {
     "data": {
      "text/plain": [
       "array([0, 0, 0, 0, 0, 0, 0, 0, 0, 0, 0, 0, 0, 0, 0, 0, 0, 0, 0, 0, 0, 0,\n",
       "       0, 0, 0, 0, 0, 0, 0, 0, 0, 0, 0, 0, 0, 0, 0, 0, 0, 0, 0, 0, 0, 0,\n",
       "       0, 0, 0, 0, 0, 0, 1, 1, 1, 1, 1, 1, 1, 1, 1, 1, 1, 1, 1, 1, 1, 1,\n",
       "       1, 1, 1, 1, 2, 1, 1, 1, 1, 1, 1, 1, 1, 1, 1, 1, 1, 1, 1, 1, 1, 1,\n",
       "       1, 1, 1, 1, 1, 1, 1, 1, 1, 1, 1, 1, 2, 2, 2, 2, 2, 2, 1, 2, 2, 2,\n",
       "       2, 2, 2, 2, 2, 2, 2, 2, 2, 1, 2, 2, 2, 2, 2, 2, 2, 2, 2, 2, 2, 2,\n",
       "       2, 1, 2, 2, 2, 2, 2, 2, 2, 2, 2, 2, 2, 2, 2, 2, 2, 2])"
      ]
     },
     "execution_count": 9,
     "metadata": {
      "tags": []
     },
     "output_type": "execute_result"
    }
   ],
   "source": [
    "# prediction from neural network\n",
    "np.argmax(np.array(decision_tree(X)), axis=1)"
   ]
  },
  {
   "cell_type": "markdown",
   "metadata": {
    "colab_type": "text",
    "id": "15o1I8UySgd2"
   },
   "source": [
    "If we want to build a sparse tree, we just need to alter the construction of the `NodeLayer`"
   ]
  },
  {
   "cell_type": "code",
   "execution_count": null,
   "metadata": {
    "colab": {},
    "colab_type": "code",
    "id": "6jO06iXuSkze"
   },
   "outputs": [],
   "source": [
    "# to build tree model, it is just a three layer neural network - lets see how we go...\n",
    "\n",
    "class NodeLayer(tf.keras.layers.Layer):\n",
    "  def __init__(self, num_nodes):\n",
    "    super(NodeLayer, self).__init__()\n",
    "    self.num_nodes = num_nodes\n",
    "    \n",
    "  def build(self, input_shape):\n",
    "    # we may want a sparse one later...ignore it for now\n",
    "    self.sparse = self.add_variable(\"sparse\", \n",
    "                                    shape=[int(input_shape[-1]), \n",
    "                                           self.num_nodes],\n",
    "                                    trainable=False)\n",
    "    self.kernel = self.add_variable(\"kernel\", shape=[self.num_nodes,])\n",
    "    self.bias = self.add_variable(\"bias\", shape=[self.num_nodes,])\n",
    "    \n",
    "  def call(self, input):\n",
    "    coef = self.kernel * self.sparse\n",
    "    return tf.matmul(input, tf.concat([coef, -coef], 1)) + tf.concat([self.bias, -self.bias], 0)\n",
    "\n",
    "# route layer is Dense(num_nodes+1)\n",
    "# leaf layer is Dense(1)\n",
    "num_nodes = 3\n",
    "decision_tree = tf.keras.Sequential([\n",
    "    NodeLayer(num_nodes),\n",
    "    tf.keras.layers.Lambda(activation1),\n",
    "    tf.keras.layers.Dense(num_nodes+1, trainable=False, use_bias=False),\n",
    "    tf.keras.layers.Lambda(activation2),\n",
    "    tf.keras.layers.Dense(3, use_bias=False)\n",
    "])"
   ]
  },
  {
   "cell_type": "code",
   "execution_count": null,
   "metadata": {
    "colab": {},
    "colab_type": "code",
    "id": "hFElQQBOUSiR"
   },
   "outputs": [],
   "source": [
    "iris_pred = decision_tree(X)"
   ]
  },
  {
   "cell_type": "code",
   "execution_count": null,
   "metadata": {
    "colab": {},
    "colab_type": "code",
    "id": "wiInNnl1UeMS"
   },
   "outputs": [],
   "source": [
    "decision_tree.layers[0].set_weights([coef, inter, sparse_info])\n",
    "decision_tree.layers[2].set_weights([route_array.T])\n",
    "decision_tree.layers[4].set_weights([leaf])"
   ]
  },
  {
   "cell_type": "code",
   "execution_count": null,
   "metadata": {
    "colab": {
     "base_uri": "https://localhost:8080/",
     "height": 146
    },
    "colab_type": "code",
    "id": "egXpPb9YUbbp",
    "outputId": "60867ef2-2e7d-431f-a521-ca669413162c"
   },
   "outputs": [
    {
     "data": {
      "text/plain": [
       "array([2, 2, 2, 2, 2, 2, 2, 2, 2, 2, 2, 2, 2, 2, 2, 2, 2, 2, 2, 2, 2, 2,\n",
       "       2, 2, 2, 2, 2, 2, 2, 2, 2, 2, 2, 2, 2, 2, 2, 2, 2, 2, 2, 2, 2, 1,\n",
       "       2, 2, 2, 2, 2, 2, 0, 0, 0, 0, 0, 0, 0, 1, 0, 0, 1, 0, 1, 0, 0, 0,\n",
       "       0, 1, 0, 1, 0, 0, 0, 1, 0, 0, 0, 0, 0, 1, 1, 1, 1, 0, 0, 0, 0, 0,\n",
       "       0, 0, 1, 0, 1, 1, 0, 1, 0, 0, 1, 0, 0, 0, 0, 0, 0, 0, 0, 0, 0, 0,\n",
       "       0, 0, 0, 0, 0, 0, 0, 0, 0, 0, 0, 0, 0, 0, 0, 0, 0, 0, 0, 0, 0, 0,\n",
       "       0, 0, 0, 0, 0, 0, 0, 0, 0, 0, 0, 0, 0, 0, 0, 0, 0, 0])"
      ]
     },
     "execution_count": 37,
     "metadata": {
      "tags": []
     },
     "output_type": "execute_result"
    }
   ],
   "source": [
    "# set parameters for iris dataset\n",
    "np.argmax(np.array(decision_tree(X)), axis=1)\n"
   ]
  },
  {
   "cell_type": "code",
   "execution_count": null,
   "metadata": {
    "colab": {},
    "colab_type": "code",
    "id": "2Kphs_TLZp4a"
   },
   "outputs": [],
   "source": []
  }
 ],
 "metadata": {
  "accelerator": "GPU",
  "colab": {
   "collapsed_sections": [],
   "name": "treegrad_tf.ipynb",
   "provenance": [],
   "version": "0.3.2"
  },
  "kernelspec": {
   "display_name": "Python [default]",
   "language": "python",
   "name": "python3"
  },
  "language_info": {
   "codemirror_mode": {
    "name": "ipython",
    "version": 3
   },
   "file_extension": ".py",
   "mimetype": "text/x-python",
   "name": "python",
   "nbconvert_exporter": "python",
   "pygments_lexer": "ipython3",
   "version": "3.6.5"
  }
 },
 "nbformat": 4,
 "nbformat_minor": 2
}
